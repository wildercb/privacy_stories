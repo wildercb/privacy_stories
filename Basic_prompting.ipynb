{
 "cells": [
  {
   "cell_type": "code",
   "execution_count": null,
   "metadata": {},
   "outputs": [],
   "source": [
    "\n",
    "import openai\n",
    "from openai import OpenAI\n",
    "\n",
    "client = OpenAI()\n",
    "\n",
    "\n",
    "question = \"What do you know? \"\n",
    "\n",
    "model_name = \"gpt-4\"\n",
    "\n",
    "build_string = \"\"\n",
    "\n",
    "# Prompt the model\n",
    "response = client.chat.completions.create(\n",
    "                model=model_name,\n",
    "                messages=[\n",
    "                    {\"role\": \"system\", \"content\": build_string},\n",
    "                    {\"role\": \"user\", \"content\": prompt}\n",
    "                ],\n",
    "                max_tokens= 1000\n",
    "            )\n",
    "            \n",
    "# Print the completion text\n",
    "response = response.choices[0].message.content.strip()\n"
   ]
  }
 ],
 "metadata": {
  "language_info": {
   "name": "python"
  }
 },
 "nbformat": 4,
 "nbformat_minor": 2
}
