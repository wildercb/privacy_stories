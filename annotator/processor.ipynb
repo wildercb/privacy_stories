{
 "cells": [
  {
   "cell_type": "code",
   "execution_count": 5,
   "metadata": {},
   "outputs": [],
   "source": [
    "import pandas as pd\n",
    "import json\n",
    "\n",
    "# Load CSV and Convert to JSON\n",
    "def load_csv(file_path):\n",
    "    df = pd.read_csv(file_path)\n",
    "    json_data = []\n",
    "    \n",
    "    for _, row in df.iterrows():\n",
    "        json_data.append({\n",
    "            \"Section\": row['Section'],\n",
    "            \"App_Level_Model\": row['App / level / model'],\n",
    "            \"Prompts\": {\n",
    "                \"Prompt1\": row['Prompt 1'],\n",
    "                \"Prompt2\": row['Prompt 2'],\n",
    "                \"Prompt3\": row['Prompt 3']\n",
    "            },\n",
    "            \"Responses\": {\n",
    "                \"Response1\": row['Response 1'],\n",
    "                \"Response2\": row['Response 2'],\n",
    "                \"Response3\": row['Response 3']\n",
    "            },\n",
    "            \"UserAnswers\": {\n",
    "                \"Answer1\": \"\",  # Placeholder for the user's answers\n",
    "                \"Answer2\": \"\",\n",
    "                \"Answer3\": \"\"\n",
    "            }\n",
    "        })\n",
    "    \n",
    "    return json_data\n",
    "\n",
    "# Save JSON Data\n",
    "def save_json(data, json_file):\n",
    "    with open(json_file, 'w', encoding='utf-8') as f:\n",
    "        json.dump(data, f, indent=4)\n",
    "\n",
    "# Apply the same set of questions for all prompts\n",
    "def add_questions(json_data, questions):\n",
    "    for item in json_data:\n",
    "        item['Questions'] = questions  # Apply the same questions for all prompts\n",
    "    return json_data\n",
    "\n",
    "# Example Usage\n",
    "file_path = 'com.aisecurity_privacy_stories.csv'\n",
    "json_data = load_csv(file_path)\n",
    "\n",
    "# The same set of questions for all prompts\n",
    "questions = {\n",
    "    \"Question1\": \"Are there any behaviors missing?\",\n",
    "    \"Question2\": \"Are the stories correct?\",\n",
    "    \"Question3\": \"How would you better write the story?\"\n",
    "}\n",
    "\n",
    "# Add the same questions to all data\n",
    "json_data_with_questions = add_questions(json_data, questions)\n",
    "\n",
    "# Save the updated JSON data\n",
    "save_json(json_data_with_questions, 'questions.json')\n"
   ]
  },
  {
   "cell_type": "code",
   "execution_count": null,
   "metadata": {},
   "outputs": [],
   "source": []
  }
 ],
 "metadata": {
  "kernelspec": {
   "display_name": "Python 3",
   "language": "python",
   "name": "python3"
  },
  "language_info": {
   "codemirror_mode": {
    "name": "ipython",
    "version": 3
   },
   "file_extension": ".py",
   "mimetype": "text/x-python",
   "name": "python",
   "nbconvert_exporter": "python",
   "pygments_lexer": "ipython3",
   "version": "3.10.8"
  }
 },
 "nbformat": 4,
 "nbformat_minor": 2
}
